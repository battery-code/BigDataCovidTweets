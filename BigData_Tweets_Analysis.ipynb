{
 "cells": [
  {
   "cell_type": "markdown",
   "id": "009c5e4b",
   "metadata": {},
   "source": [
    "# Big Data Platform - Final Project\n",
    "\n",
    "## Covid Tweets Analysis!\n",
    "\n",
    "### Bhadri Vaidhyanathan"
   ]
  },
  {
   "cell_type": "markdown",
   "id": "0605bb45",
   "metadata": {},
   "source": [
    "### Objective\n",
    "<ul>\n",
    "        <li> Utilize Big Data, PySpark, Parquet, NLP and Google Cloud Platform to analyse tweets related to Covid </li>\n",
    "        <li> Identify top Twitterers and classify them based on their profile </li>\n",
    "        <li> Analyse the volume of tweets by location</li>\n",
    "        <li> Conduct a time series analysis of the Covid Tweets</li>\n",
    "</ul>\n"
   ]
  },
  {
   "cell_type": "code",
   "execution_count": 2,
   "id": "a3098b62",
   "metadata": {},
   "outputs": [],
   "source": [
    "import os\n",
    "import subprocess\n",
    "from pyspark.sql.functions import *\n",
    "from pyspark.sql.types import *\n",
    "from pyspark.sql.types import StructType\n",
    "\n",
    "import findspark\n",
    "findspark.init()\n",
    "spark = SparkSession.builder.getOrCreate()\n",
    "sc = spark.sparkContext\n",
    "\n",
    "import pyspark.sql.functions as sql_fun"
   ]
  },
  {
   "cell_type": "code",
   "execution_count": 3,
   "id": "025da509",
   "metadata": {},
   "outputs": [],
   "source": [
    "import numpy as np\n",
    "import pandas as pd\n",
    "import re\n",
    "import string\n",
    "import matplotlib.pyplot as plt\n",
    "%matplotlib inline"
   ]
  },
  {
   "cell_type": "code",
   "execution_count": null,
   "id": "9a9b32b9",
   "metadata": {},
   "outputs": [],
   "source": [
    "spark.conf.set(\"spark.sql.repl.eagerEval.enabled\",True)"
   ]
  },
  {
   "cell_type": "code",
   "execution_count": null,
   "id": "fd5c9885",
   "metadata": {},
   "outputs": [],
   "source": [
    "%%time\n",
    "path = 'gs://msca-bdp-tweets/final_project/'\n",
    "tweets_df = spark.read.json(path)"
   ]
  },
  {
   "cell_type": "markdown",
   "id": "93eb7471",
   "metadata": {},
   "source": [
    "# Preprocess\n",
    "\n",
    "### Data Profile\n",
    "<ul>\n",
    "        <li> 100Million Tweets, 617 Gigabytes</li>\n",
    "        <li> Timeline of tweets: Oct 15,2021 to Jan 25,2022</li>\n",
    "        <li> Number of columns: 36</li>\n",
    "        <li> File format: JSON</li>\n",
    "</ul>"
   ]
  },
  {
   "cell_type": "markdown",
   "id": "49e5b96a",
   "metadata": {},
   "source": [
    "## Filtering dataset"
   ]
  },
  {
   "cell_type": "code",
   "execution_count": null,
   "id": "59b7d574",
   "metadata": {},
   "outputs": [],
   "source": [
    "#reduce to relevant data\n",
    "from pyspark.sql.functions import col\n",
    "sample_df = tweets_df.select(col(\"id\"),col(\"id_str\"),col(\"user\"),col(\"place\"),col(\"text\"),col(\"retweeted_status\"), col(\"extended_tweet\"), \\\n",
    "                             col(\"entities\"),col(\"created_at\"), col(\"coordinates\"),col(\"favorite_count\"), \\\n",
    "                             col(\"quote_count\"),col(\"retweet_count\"),col(\"reply_count\"),col(\"is_quote_status\"), \\\n",
    "                             col(\"retweeted\"),col(\"lang\"))"
   ]
  },
  {
   "cell_type": "code",
   "execution_count": null,
   "id": "d9c4c797",
   "metadata": {},
   "outputs": [],
   "source": [
    "#extract retweeted status\n",
    "import pyspark.sql.functions as sql_fun\n",
    "sample_df = sample_df.withColumn('text',sql_fun.lower(sample_df.text)).withColumn('retweeted_status_text',sql_fun.lower(sample_df.retweeted_status.text))"
   ]
  },
  {
   "cell_type": "code",
   "execution_count": null,
   "id": "104098ff",
   "metadata": {},
   "outputs": [],
   "source": [
    "#filter1\n",
    "\n",
    "covid_df = sample_df.filter(sample_df.text.contains('covid')|sample_df.retweeted_status_text.contains('covid'))\n",
    "covid_df.count()"
   ]
  },
  {
   "cell_type": "code",
   "execution_count": null,
   "id": "10f843cc",
   "metadata": {},
   "outputs": [],
   "source": [
    "## Partition, Parquet and move to personal GCS\n",
    "covid_df.write.partitionBy(\"created_at_year\", \"created_at_mon\", \"created_at_day\") \\\n",
    "        .mode(\"overwrite\") \\\n",
    "        .parquet(\"gs://msca-bdp-students-bucket/shared_data/bhadri/covid_tweets4_df.parquet\")"
   ]
  },
  {
   "cell_type": "code",
   "execution_count": null,
   "id": "c474de29",
   "metadata": {},
   "outputs": [],
   "source": [
    "#size check in GCS\n",
    "!gsutil du -sh -a gs://msca-bdp-students-bucket/shared_data/bhadri/covid_tweets_df.parquet/\n",
    "#move to personal gcs\n",
    "!gsutil mv \"gs://****-bucket/shared_data/****/covid_tweets.parquet\" 'gs://***-tweets/covid_tweets.parquet'"
   ]
  },
  {
   "cell_type": "markdown",
   "id": "9ddae2e0",
   "metadata": {},
   "source": [
    "#### Tweets or Retweets\n",
    "Retweets are re-post of other tweets. The original tweet is stored nested within the JSON. The nested information needs to be extracted so the original tweet and author are given the credit. "
   ]
  },
  {
   "cell_type": "code",
   "execution_count": null,
   "id": "08824eb1",
   "metadata": {},
   "outputs": [],
   "source": [
    "# Creating new columns for user information and extract for retweets\n",
    "\n",
    "covid_df = covid_df \\\n",
    "            .withColumn('x_user_id',when(covid_df.retweeted == False,col('user.id')).otherwise(col('retweeted_status.user.id'))) \\\n",
    "            .withColumn('x_user_scrname',when(covid_df.retweeted == False,col('user.screen_name')).otherwise(col('retweeted_status.user.screen_name'))) \\\n",
    "            .withColumn('x_user_desc',when(covid_df.retweeted == False,col('user.description')).otherwise(col('retweeted_status.user.description'))) \\\n",
    "            .withColumn('x_user_location',when(covid_df.retweeted == False,col('user.location')).otherwise(col('retweeted_status.user.location')))  \\\n",
    "            .withColumn('x_user_retweet_count',when(covid_df.retweeted == False,col('retweet_count')).otherwise(col('retweeted_status.retweet_count'))) \\\n",
    "            .withColumn('x_user_followers_count',when(covid_df.retweeted == False,col('user.followers_count')).otherwise(col('retweeted_status.user.followers_count'))) \\\n",
    "            .withColumn('x_user_friends_count',when(covid_df.retweeted == False,col('user.friends_count')).otherwise(col('retweeted_status.user.friends_count'))) \\\n",
    "            .withColumn('x_user_verified',when(covid_df.retweeted == False,col('user.verified')).otherwise(col('retweeted_status.user.verified')))"
   ]
  },
  {
   "cell_type": "markdown",
   "id": "9eeb99aa",
   "metadata": {},
   "source": [
    "### Top Twitterer by volume of tweets"
   ]
  },
  {
   "cell_type": "code",
   "execution_count": null,
   "id": "23d4535f",
   "metadata": {},
   "outputs": [],
   "source": [
    "#groupby tweets by user\n",
    "covid_users_pdf = covid_users.groupby(\"x_user_scrname\",\"x_user_desc\",\"x_user_location\",\"x_user_id\",\"x_user_url\") \\\n",
    "                        .agg(   count(covid_users.id).alias('covid_twt_count'), \\\n",
    "                                max(covid_users.x_user_retweet_count).alias('retwt_count'), \\\n",
    "                                max(covid_users.x_user_followers_count).alias('followers_count') \\\n",
    "                            ) \\\n",
    "                        .sort(desc(\"covid_twt_count\"))   "
   ]
  },
  {
   "cell_type": "code",
   "execution_count": 23,
   "id": "af7de04d",
   "metadata": {},
   "outputs": [
    {
     "name": "stderr",
     "output_type": "stream",
     "text": [
      "C:\\Users\\vbatt\\AppData\\Local\\Temp\\ipykernel_24356\\314468927.py:1: DtypeWarning: Columns (0) have mixed types. Specify dtype option on import or set low_memory=False.\n",
      "  covid_users_pdf = pd.read_csv('user_twt_pdf.csv')\n"
     ]
    },
    {
     "data": {
      "text/html": [
       "<div>\n",
       "<style scoped>\n",
       "    .dataframe tbody tr th:only-of-type {\n",
       "        vertical-align: middle;\n",
       "    }\n",
       "\n",
       "    .dataframe tbody tr th {\n",
       "        vertical-align: top;\n",
       "    }\n",
       "\n",
       "    .dataframe thead th {\n",
       "        text-align: right;\n",
       "    }\n",
       "</style>\n",
       "<table border=\"1\" class=\"dataframe\">\n",
       "  <thead>\n",
       "    <tr style=\"text-align: right;\">\n",
       "      <th></th>\n",
       "      <th>Unnamed: 0</th>\n",
       "      <th>x_user_name</th>\n",
       "      <th>x_user_scrname</th>\n",
       "      <th>x_user_desc</th>\n",
       "      <th>x_user_location</th>\n",
       "      <th>x_user_id</th>\n",
       "      <th>covid_twt_count</th>\n",
       "      <th>total_tweet_count</th>\n",
       "      <th>avg_retwt_count</th>\n",
       "      <th>followers_count</th>\n",
       "    </tr>\n",
       "  </thead>\n",
       "  <tbody>\n",
       "    <tr>\n",
       "      <th>0</th>\n",
       "      <td>0</td>\n",
       "      <td>Robert W Malone, MD</td>\n",
       "      <td>RWMaloneMD</td>\n",
       "      <td>Inventor of mRNA vaccines and RNA as a drug, B...</td>\n",
       "      <td>Madison, VA</td>\n",
       "      <td>3.984488e+07</td>\n",
       "      <td>27532.0</td>\n",
       "      <td>8521.0</td>\n",
       "      <td>1333.550305</td>\n",
       "      <td>473202.0</td>\n",
       "    </tr>\n",
       "    <tr>\n",
       "      <th>1</th>\n",
       "      <td>1</td>\n",
       "      <td>Disclose.tv</td>\n",
       "      <td>disclosetv</td>\n",
       "      <td>Observing world events unfold in the grand the...</td>\n",
       "      <td>NaN</td>\n",
       "      <td>1.539249e+07</td>\n",
       "      <td>21596.0</td>\n",
       "      <td>3789.0</td>\n",
       "      <td>2459.135812</td>\n",
       "      <td>736174.0</td>\n",
       "    </tr>\n",
       "    <tr>\n",
       "      <th>2</th>\n",
       "      <td>2</td>\n",
       "      <td>Karan Menon</td>\n",
       "      <td>TheKaranMenon</td>\n",
       "      <td>comedian from jersey, woke tiktok king, featur...</td>\n",
       "      <td>Holmdel, NJ</td>\n",
       "      <td>1.049540e+18</td>\n",
       "      <td>16271.0</td>\n",
       "      <td>223.0</td>\n",
       "      <td>11724.467826</td>\n",
       "      <td>23226.0</td>\n",
       "    </tr>\n",
       "  </tbody>\n",
       "</table>\n",
       "</div>"
      ],
      "text/plain": [
       "  Unnamed: 0          x_user_name x_user_scrname  \\\n",
       "0          0  Robert W Malone, MD     RWMaloneMD   \n",
       "1          1          Disclose.tv     disclosetv   \n",
       "2          2          Karan Menon  TheKaranMenon   \n",
       "\n",
       "                                         x_user_desc x_user_location  \\\n",
       "0  Inventor of mRNA vaccines and RNA as a drug, B...     Madison, VA   \n",
       "1  Observing world events unfold in the grand the...             NaN   \n",
       "2  comedian from jersey, woke tiktok king, featur...     Holmdel, NJ   \n",
       "\n",
       "      x_user_id  covid_twt_count  total_tweet_count  avg_retwt_count  \\\n",
       "0  3.984488e+07          27532.0             8521.0      1333.550305   \n",
       "1  1.539249e+07          21596.0             3789.0      2459.135812   \n",
       "2  1.049540e+18          16271.0              223.0     11724.467826   \n",
       "\n",
       "   followers_count  \n",
       "0         473202.0  \n",
       "1         736174.0  \n",
       "2          23226.0  "
      ]
     },
     "execution_count": 23,
     "metadata": {},
     "output_type": "execute_result"
    }
   ],
   "source": [
    "covid_users_pdf = pd.read_csv('user_twt_pdf.csv')\n",
    "covid_users_pdf.head(3)"
   ]
  },
  {
   "cell_type": "code",
   "execution_count": 9,
   "id": "db87f20f",
   "metadata": {},
   "outputs": [
    {
     "data": {
      "text/plain": [
       "(388015, 10)"
      ]
     },
     "execution_count": 9,
     "metadata": {},
     "output_type": "execute_result"
    }
   ],
   "source": [
    "covid_users_pdf.shape"
   ]
  },
  {
   "cell_type": "code",
   "execution_count": 10,
   "id": "2ef37626",
   "metadata": {},
   "outputs": [
    {
     "data": {
      "text/plain": [
       "(388015, 0)"
      ]
     },
     "execution_count": 10,
     "metadata": {},
     "output_type": "execute_result"
    }
   ],
   "source": [
    "# #reduce the dataframe to relevant users\n",
    "# covid_users_pdfx = covid_users_pdf.filter(covid_users_pdf.covid_twt_count > 25).filter(covid_users_pdf.followers_count > 25)\n",
    "# covid_users_pdfx.shape"
   ]
  },
  {
   "cell_type": "code",
   "execution_count": 25,
   "id": "e97d7869",
   "metadata": {},
   "outputs": [],
   "source": [
    "top_tweeters = covid_users_pdf[covid_users_pdf['covid_twt_count'] >= 10000]\n",
    "top_tweeters = top_tweeters[['x_user_scrname','covid_twt_count']]\n",
    "top_tweeters.set_index('x_user_scrname', inplace=True)"
   ]
  },
  {
   "cell_type": "code",
   "execution_count": 26,
   "id": "994dbb17",
   "metadata": {},
   "outputs": [
    {
     "data": {
      "text/plain": [
       "''"
      ]
     },
     "execution_count": 26,
     "metadata": {},
     "output_type": "execute_result"
    },
    {
     "data": {
      "image/png": "[encoded data removed]",
      "text/plain": [
       "<Figure size 504x360 with 1 Axes>"
      ]
     },
     "metadata": {
      "needs_background": "light"
     },
     "output_type": "display_data"
    }
   ],
   "source": [
    "#plot the top Twitterer\n",
    "import matplotlib.pyplot as plt\n",
    "plt.rcParams[\"figure.figsize\"] = (7,5)\n",
    "\n",
    "top_tweeters.plot.bar(color='steelblue')\n",
    "plt.title(\"Top Twitterer - Original tweets\")\n",
    "plt.ylabel(\"Number of Tweets\")\n",
    "plt.xlabel(\"Twitter Screen Name\")\n",
    ";"
   ]
  },
  {
   "cell_type": "markdown",
   "id": "7d554487",
   "metadata": {},
   "source": [
    "# User Profiling\n",
    "\n",
    "Profile and classify the users based on 'user description' using NLP techniques."
   ]
  },
  {
   "cell_type": "code",
   "execution_count": 29,
   "id": "73655559",
   "metadata": {},
   "outputs": [
    {
     "name": "stderr",
     "output_type": "stream",
     "text": [
      "C:\\Users\\vbatt\\AppData\\Local\\Temp\\ipykernel_24356\\3862165279.py:1: DtypeWarning: Columns (0) have mixed types. Specify dtype option on import or set low_memory=False.\n",
      "  user_prof_pdf = pd.read_csv('user_prof_full_df.csv')\n"
     ]
    }
   ],
   "source": [
    "user_prof_pdf = pd.read_csv('user_prof_full_df.csv')"
   ]
  },
  {
   "cell_type": "code",
   "execution_count": 30,
   "id": "8010722c",
   "metadata": {},
   "outputs": [
    {
     "data": {
      "text/html": [
       "<div>\n",
       "<style scoped>\n",
       "    .dataframe tbody tr th:only-of-type {\n",
       "        vertical-align: middle;\n",
       "    }\n",
       "\n",
       "    .dataframe tbody tr th {\n",
       "        vertical-align: top;\n",
       "    }\n",
       "\n",
       "    .dataframe thead th {\n",
       "        text-align: right;\n",
       "    }\n",
       "</style>\n",
       "<table border=\"1\" class=\"dataframe\">\n",
       "  <thead>\n",
       "    <tr style=\"text-align: right;\">\n",
       "      <th></th>\n",
       "      <th>x_user_scrname</th>\n",
       "      <th>x_user_desc</th>\n",
       "    </tr>\n",
       "  </thead>\n",
       "  <tbody>\n",
       "    <tr>\n",
       "      <th>0</th>\n",
       "      <td>ClayTravis</td>\n",
       "      <td>http://Outkick.com, @outkick @clayandbuck radi...</td>\n",
       "    </tr>\n",
       "    <tr>\n",
       "      <th>1</th>\n",
       "      <td>PeterSweden7</td>\n",
       "      <td>I'm Peter Imanuelsen | Swedish journalist | Po...</td>\n",
       "    </tr>\n",
       "    <tr>\n",
       "      <th>2</th>\n",
       "      <td>thebradfordfile</td>\n",
       "      <td>liberal hypocrisy is a disease</td>\n",
       "    </tr>\n",
       "    <tr>\n",
       "      <th>3</th>\n",
       "      <td>PeterSweden7</td>\n",
       "      <td>I'm Peter Imanuelsen | Swedish journalist | Po...</td>\n",
       "    </tr>\n",
       "    <tr>\n",
       "      <th>4</th>\n",
       "      <td>earthangeleve</td>\n",
       "      <td>♍︎ ⊙ ♑︎ ☽ 18+ • writer. healer. earth mystic. ...</td>\n",
       "    </tr>\n",
       "  </tbody>\n",
       "</table>\n",
       "</div>"
      ],
      "text/plain": [
       "    x_user_scrname                                        x_user_desc\n",
       "0       ClayTravis  http://Outkick.com, @outkick @clayandbuck radi...\n",
       "1     PeterSweden7  I'm Peter Imanuelsen | Swedish journalist | Po...\n",
       "2  thebradfordfile                     liberal hypocrisy is a disease\n",
       "3     PeterSweden7  I'm Peter Imanuelsen | Swedish journalist | Po...\n",
       "4    earthangeleve  ♍︎ ⊙ ♑︎ ☽ 18+ • writer. healer. earth mystic. ..."
      ]
     },
     "execution_count": 30,
     "metadata": {},
     "output_type": "execute_result"
    }
   ],
   "source": [
    "#using description to profie users\n",
    "user_desc = user_prof_pdf[['x_user_scrname','x_user_desc']]\n",
    "user_desc.head()"
   ]
  },
  {
   "cell_type": "code",
   "execution_count": 31,
   "id": "a52ebd22",
   "metadata": {},
   "outputs": [],
   "source": [
    "from gensim.parsing.preprocessing import remove_stopwords\n",
    "\n",
    "#Clean text and remove stop words from description\n",
    "\n",
    "def clean_text(text):\n",
    "    text = str(text)\n",
    "    text = text.lower()\n",
    "    text = re.sub('@[^\\s]+','',text)\n",
    "    text = re.sub(r\"http\\S+\", \"\", text)\n",
    "    text = re.sub('[%s]' % re.escape(string.punctuation), '', text) # removes punctuations\n",
    "    text = re.sub('\\w*\\d\\w*', '', text) #removes numbers\n",
    "    text = \"\".join(c for c in text if ord(c)<128)  # remove non ascii characters\n",
    "    \n",
    "    cleaned_text = remove_stopwords(text)\n",
    "           \n",
    "    return cleaned_text"
   ]
  },
  {
   "cell_type": "code",
   "execution_count": 32,
   "id": "bcafb600",
   "metadata": {},
   "outputs": [
    {
     "name": "stderr",
     "output_type": "stream",
     "text": [
      "C:\\Users\\vbatt\\AppData\\Local\\Temp\\ipykernel_24356\\292434129.py:1: SettingWithCopyWarning: \n",
      "A value is trying to be set on a copy of a slice from a DataFrame.\n",
      "Try using .loc[row_indexer,col_indexer] = value instead\n",
      "\n",
      "See the caveats in the documentation: https://pandas.pydata.org/pandas-docs/stable/user_guide/indexing.html#returning-a-view-versus-a-copy\n",
      "  user_desc['clean_desc'] = user_desc['x_user_desc'].apply(lambda x: clean_text(x))\n"
     ]
    }
   ],
   "source": [
    "user_desc['clean_desc'] = user_desc['x_user_desc'].apply(lambda x: clean_text(x))"
   ]
  },
  {
   "cell_type": "code",
   "execution_count": 33,
   "id": "716e8849",
   "metadata": {},
   "outputs": [
    {
     "data": {
      "text/html": [
       "<div>\n",
       "<style scoped>\n",
       "    .dataframe tbody tr th:only-of-type {\n",
       "        vertical-align: middle;\n",
       "    }\n",
       "\n",
       "    .dataframe tbody tr th {\n",
       "        vertical-align: top;\n",
       "    }\n",
       "\n",
       "    .dataframe thead th {\n",
       "        text-align: right;\n",
       "    }\n",
       "</style>\n",
       "<table border=\"1\" class=\"dataframe\">\n",
       "  <thead>\n",
       "    <tr style=\"text-align: right;\">\n",
       "      <th></th>\n",
       "      <th>x_user_scrname</th>\n",
       "      <th>x_user_desc</th>\n",
       "      <th>clean_desc</th>\n",
       "    </tr>\n",
       "  </thead>\n",
       "  <tbody>\n",
       "    <tr>\n",
       "      <th>0</th>\n",
       "      <td>ClayTravis</td>\n",
       "      <td>http://Outkick.com, @outkick @clayandbuck radi...</td>\n",
       "      <td>radio pm et tv et author republicans buy sneak...</td>\n",
       "    </tr>\n",
       "    <tr>\n",
       "      <th>1</th>\n",
       "      <td>PeterSweden7</td>\n",
       "      <td>I'm Peter Imanuelsen | Swedish journalist | Po...</td>\n",
       "      <td>im peter imanuelsen swedish journalist politic...</td>\n",
       "    </tr>\n",
       "    <tr>\n",
       "      <th>2</th>\n",
       "      <td>thebradfordfile</td>\n",
       "      <td>liberal hypocrisy is a disease</td>\n",
       "      <td>liberal hypocrisy disease</td>\n",
       "    </tr>\n",
       "    <tr>\n",
       "      <th>3</th>\n",
       "      <td>PeterSweden7</td>\n",
       "      <td>I'm Peter Imanuelsen | Swedish journalist | Po...</td>\n",
       "      <td>im peter imanuelsen swedish journalist politic...</td>\n",
       "    </tr>\n",
       "    <tr>\n",
       "      <th>4</th>\n",
       "      <td>earthangeleve</td>\n",
       "      <td>♍︎ ⊙ ♑︎ ☽ 18+ • writer. healer. earth mystic. ...</td>\n",
       "      <td>writer healer earth mystic divine feminine</td>\n",
       "    </tr>\n",
       "  </tbody>\n",
       "</table>\n",
       "</div>"
      ],
      "text/plain": [
       "    x_user_scrname                                        x_user_desc  \\\n",
       "0       ClayTravis  http://Outkick.com, @outkick @clayandbuck radi...   \n",
       "1     PeterSweden7  I'm Peter Imanuelsen | Swedish journalist | Po...   \n",
       "2  thebradfordfile                     liberal hypocrisy is a disease   \n",
       "3     PeterSweden7  I'm Peter Imanuelsen | Swedish journalist | Po...   \n",
       "4    earthangeleve  ♍︎ ⊙ ♑︎ ☽ 18+ • writer. healer. earth mystic. ...   \n",
       "\n",
       "                                          clean_desc  \n",
       "0  radio pm et tv et author republicans buy sneak...  \n",
       "1  im peter imanuelsen swedish journalist politic...  \n",
       "2                          liberal hypocrisy disease  \n",
       "3  im peter imanuelsen swedish journalist politic...  \n",
       "4         writer healer earth mystic divine feminine  "
      ]
     },
     "execution_count": 33,
     "metadata": {},
     "output_type": "execute_result"
    }
   ],
   "source": [
    "user_desc.head()"
   ]
  },
  {
   "cell_type": "code",
   "execution_count": 35,
   "id": "98bdcdac",
   "metadata": {},
   "outputs": [
    {
     "data": {
      "text/plain": [
       "(207142, 3)"
      ]
     },
     "execution_count": 35,
     "metadata": {},
     "output_type": "execute_result"
    }
   ],
   "source": [
    "user_desc.shape"
   ]
  },
  {
   "cell_type": "markdown",
   "id": "b46e3bc3",
   "metadata": {},
   "source": [
    "### Attempt1: Word Count Analysis\n",
    "Find the highest frequency words in user descriptions"
   ]
  },
  {
   "cell_type": "code",
   "execution_count": 14,
   "id": "4f81d046",
   "metadata": {},
   "outputs": [],
   "source": [
    "#create corpus\n",
    "corpus = \"\"\n",
    "for idx,row in user_desc.iterrows():\n",
    "    corpus+=row.loc['clean_desc']"
   ]
  },
  {
   "cell_type": "code",
   "execution_count": 16,
   "id": "34e2669d",
   "metadata": {},
   "outputs": [],
   "source": [
    "wordlist = corpus.split()"
   ]
  },
  {
   "cell_type": "code",
   "execution_count": 19,
   "id": "019709df",
   "metadata": {},
   "outputs": [
    {
     "name": "stdout",
     "output_type": "stream",
     "text": [
      "love :  6518\n",
      "fan :  5254\n",
      "im :  5173\n",
      "dont :  5167\n",
      "life :  4448\n",
      "like :  3751\n",
      "lover :  3459\n",
      "people :  3408\n",
      "world :  3098\n",
      "news :  2987\n",
      "account :  2966\n",
      "politics :  2884\n",
      "music :  2815\n",
      "health :  2814\n",
      "follow :  2771\n",
      "time :  2719\n",
      "twitter :  2696\n",
      "mom :  2593\n",
      "good :  2582\n",
      "proud :  2577\n",
      "sheher :  2570\n",
      "writer :  2570\n",
      "free :  2454\n",
      "tweets :  2404\n",
      "views :  2284\n"
     ]
    }
   ],
   "source": [
    "import collections\n",
    "\n",
    "word_counter = collections.Counter(wordlist)\n",
    "for word, count in word_counter.most_common(25):\n",
    "    print(word, \": \", count)"
   ]
  },
  {
   "cell_type": "markdown",
   "id": "0010a6c3",
   "metadata": {},
   "source": [
    "### Attempt 2: ngram analysis"
   ]
  },
  {
   "cell_type": "code",
   "execution_count": 64,
   "id": "69499256",
   "metadata": {},
   "outputs": [
    {
     "ename": "MemoryError",
     "evalue": "Unable to allocate 1.33 TiB for an array with shape (207142, 881758) and data type int64",
     "output_type": "error",
     "traceback": [
      "\u001b[1;31m---------------------------------------------------------------------------\u001b[0m",
      "\u001b[1;31mMemoryError\u001b[0m                               Traceback (most recent call last)",
      "Input \u001b[1;32mIn [64]\u001b[0m, in \u001b[0;36m<cell line: 8>\u001b[1;34m()\u001b[0m\n\u001b[0;32m      5\u001b[0m ngrams \u001b[38;5;241m=\u001b[39m c_vec\u001b[38;5;241m.\u001b[39mfit_transform(user_desc\u001b[38;5;241m.\u001b[39mclean_desc)\n\u001b[0;32m      7\u001b[0m \u001b[38;5;66;03m# count frequency of ngrams\u001b[39;00m\n\u001b[1;32m----> 8\u001b[0m count_values \u001b[38;5;241m=\u001b[39m \u001b[43mngrams\u001b[49m\u001b[38;5;241;43m.\u001b[39;49m\u001b[43mtoarray\u001b[49m\u001b[43m(\u001b[49m\u001b[43m)\u001b[49m\u001b[38;5;241m.\u001b[39msum(axis\u001b[38;5;241m=\u001b[39m\u001b[38;5;241m0\u001b[39m)\n\u001b[0;32m     10\u001b[0m \u001b[38;5;66;03m# list of ngrams\u001b[39;00m\n\u001b[0;32m     11\u001b[0m vocab \u001b[38;5;241m=\u001b[39m c_vec\u001b[38;5;241m.\u001b[39mvocabulary_\n",
      "File \u001b[1;32mC:\\Miniconda3\\lib\\site-packages\\scipy\\sparse\\_compressed.py:1051\u001b[0m, in \u001b[0;36m_cs_matrix.toarray\u001b[1;34m(self, order, out)\u001b[0m\n\u001b[0;32m   1049\u001b[0m \u001b[38;5;28;01mif\u001b[39;00m out \u001b[38;5;129;01mis\u001b[39;00m \u001b[38;5;28;01mNone\u001b[39;00m \u001b[38;5;129;01mand\u001b[39;00m order \u001b[38;5;129;01mis\u001b[39;00m \u001b[38;5;28;01mNone\u001b[39;00m:\n\u001b[0;32m   1050\u001b[0m     order \u001b[38;5;241m=\u001b[39m \u001b[38;5;28mself\u001b[39m\u001b[38;5;241m.\u001b[39m_swap(\u001b[38;5;124m'\u001b[39m\u001b[38;5;124mcf\u001b[39m\u001b[38;5;124m'\u001b[39m)[\u001b[38;5;241m0\u001b[39m]\n\u001b[1;32m-> 1051\u001b[0m out \u001b[38;5;241m=\u001b[39m \u001b[38;5;28;43mself\u001b[39;49m\u001b[38;5;241;43m.\u001b[39;49m\u001b[43m_process_toarray_args\u001b[49m\u001b[43m(\u001b[49m\u001b[43morder\u001b[49m\u001b[43m,\u001b[49m\u001b[43m \u001b[49m\u001b[43mout\u001b[49m\u001b[43m)\u001b[49m\n\u001b[0;32m   1052\u001b[0m \u001b[38;5;28;01mif\u001b[39;00m \u001b[38;5;129;01mnot\u001b[39;00m (out\u001b[38;5;241m.\u001b[39mflags\u001b[38;5;241m.\u001b[39mc_contiguous \u001b[38;5;129;01mor\u001b[39;00m out\u001b[38;5;241m.\u001b[39mflags\u001b[38;5;241m.\u001b[39mf_contiguous):\n\u001b[0;32m   1053\u001b[0m     \u001b[38;5;28;01mraise\u001b[39;00m \u001b[38;5;167;01mValueError\u001b[39;00m(\u001b[38;5;124m'\u001b[39m\u001b[38;5;124mOutput array must be C or F contiguous\u001b[39m\u001b[38;5;124m'\u001b[39m)\n",
      "File \u001b[1;32mC:\\Miniconda3\\lib\\site-packages\\scipy\\sparse\\_base.py:1288\u001b[0m, in \u001b[0;36mspmatrix._process_toarray_args\u001b[1;34m(self, order, out)\u001b[0m\n\u001b[0;32m   1286\u001b[0m     \u001b[38;5;28;01mreturn\u001b[39;00m out\n\u001b[0;32m   1287\u001b[0m \u001b[38;5;28;01melse\u001b[39;00m:\n\u001b[1;32m-> 1288\u001b[0m     \u001b[38;5;28;01mreturn\u001b[39;00m \u001b[43mnp\u001b[49m\u001b[38;5;241;43m.\u001b[39;49m\u001b[43mzeros\u001b[49m\u001b[43m(\u001b[49m\u001b[38;5;28;43mself\u001b[39;49m\u001b[38;5;241;43m.\u001b[39;49m\u001b[43mshape\u001b[49m\u001b[43m,\u001b[49m\u001b[43m \u001b[49m\u001b[43mdtype\u001b[49m\u001b[38;5;241;43m=\u001b[39;49m\u001b[38;5;28;43mself\u001b[39;49m\u001b[38;5;241;43m.\u001b[39;49m\u001b[43mdtype\u001b[49m\u001b[43m,\u001b[49m\u001b[43m \u001b[49m\u001b[43morder\u001b[49m\u001b[38;5;241;43m=\u001b[39;49m\u001b[43morder\u001b[49m\u001b[43m)\u001b[49m\n",
      "\u001b[1;31mMemoryError\u001b[0m: Unable to allocate 1.33 TiB for an array with shape (207142, 881758) and data type int64"
     ]
    }
   ],
   "source": [
    "from sklearn.feature_extraction.text import CountVectorizer\n",
    "c_vec = CountVectorizer(ngram_range=(2,2))\n",
    "\n",
    "# matrix of ngrams\n",
    "ngrams = c_vec.fit_transform(user_desc.clean_desc)\n",
    "\n",
    "# count frequency of ngrams\n",
    "count_values = ngrams.toarray().sum(axis=0)\n",
    "\n",
    "# list of ngrams\n",
    "vocab = c_vec.vocabulary_\n",
    "df_ngram2 = pd.DataFrame(sorted([(count_values[i],k) for k,i in vocab.items()], reverse=True)\n",
    "            ).rename(columns={0: 'frequency', 1:'bigram/trigram'})"
   ]
  },
  {
   "cell_type": "markdown",
   "id": "12c21b04",
   "metadata": {},
   "source": [
    "- The CV matrix is too big. Considering that we are only looking to see the top/most frequent terms, we need not process all the ngrams. We can restrict the CV with max_features as below"
   ]
  },
  {
   "cell_type": "code",
   "execution_count": null,
   "id": "1ff7a7f5",
   "metadata": {},
   "outputs": [],
   "source": [
    "from sklearn.feature_extraction.text import CountVectorizer\n",
    "c_vec = CountVectorizer(ngram_range=(2,2), max_features = 50)\n",
    "\n",
    "# matrix of ngrams\n",
    "ngrams = c_vec.fit_transform(user_desc.clean_desc)\n",
    "\n",
    "# count frequency of ngrams\n",
    "count_values = ngrams.toarray().sum(axis=0)\n",
    "\n",
    "# list of ngrams\n",
    "vocab = c_vec.vocabulary_\n",
    "df_ngram2 = pd.DataFrame(sorted([(count_values[i],k) for k,i in vocab.items()], reverse=True)\n",
    "            ).rename(columns={0: 'frequency', 1:'bigram/trigram'})"
   ]
  },
  {
   "cell_type": "code",
   "execution_count": 69,
   "id": "787dc82d",
   "metadata": {},
   "outputs": [
    {
     "data": {
      "text/html": [
       "<div>\n",
       "<style scoped>\n",
       "    .dataframe tbody tr th:only-of-type {\n",
       "        vertical-align: middle;\n",
       "    }\n",
       "\n",
       "    .dataframe tbody tr th {\n",
       "        vertical-align: top;\n",
       "    }\n",
       "\n",
       "    .dataframe thead th {\n",
       "        text-align: right;\n",
       "    }\n",
       "</style>\n",
       "<table border=\"1\" class=\"dataframe\">\n",
       "  <thead>\n",
       "    <tr style=\"text-align: right;\">\n",
       "      <th></th>\n",
       "      <th>frequency</th>\n",
       "      <th>bigram/trigram</th>\n",
       "    </tr>\n",
       "  </thead>\n",
       "  <tbody>\n",
       "    <tr>\n",
       "      <th>0</th>\n",
       "      <td>703</td>\n",
       "      <td>fan account</td>\n",
       "    </tr>\n",
       "    <tr>\n",
       "      <th>1</th>\n",
       "      <td>690</td>\n",
       "      <td>husband father</td>\n",
       "    </tr>\n",
       "    <tr>\n",
       "      <th>2</th>\n",
       "      <td>633</td>\n",
       "      <td>lives matter</td>\n",
       "    </tr>\n",
       "    <tr>\n",
       "      <th>3</th>\n",
       "      <td>523</td>\n",
       "      <td>human rights</td>\n",
       "    </tr>\n",
       "    <tr>\n",
       "      <th>4</th>\n",
       "      <td>519</td>\n",
       "      <td>mental health</td>\n",
       "    </tr>\n",
       "  </tbody>\n",
       "</table>\n",
       "</div>"
      ],
      "text/plain": [
       "   frequency  bigram/trigram\n",
       "0        703     fan account\n",
       "1        690  husband father\n",
       "2        633    lives matter\n",
       "3        523    human rights\n",
       "4        519   mental health"
      ]
     },
     "execution_count": 69,
     "metadata": {},
     "output_type": "execute_result"
    }
   ],
   "source": [
    "df_ngram2.head(5)"
   ]
  },
  {
   "cell_type": "code",
   "execution_count": 68,
   "id": "86a555a8",
   "metadata": {},
   "outputs": [
    {
     "data": {
      "text/html": [
       "<div>\n",
       "<style scoped>\n",
       "    .dataframe tbody tr th:only-of-type {\n",
       "        vertical-align: middle;\n",
       "    }\n",
       "\n",
       "    .dataframe tbody tr th {\n",
       "        vertical-align: top;\n",
       "    }\n",
       "\n",
       "    .dataframe thead th {\n",
       "        text-align: right;\n",
       "    }\n",
       "</style>\n",
       "<table border=\"1\" class=\"dataframe\">\n",
       "  <thead>\n",
       "    <tr style=\"text-align: right;\">\n",
       "      <th></th>\n",
       "      <th>frequency</th>\n",
       "      <th>bigram/trigram</th>\n",
       "    </tr>\n",
       "  </thead>\n",
       "  <tbody>\n",
       "    <tr>\n",
       "      <th>0</th>\n",
       "      <td>443</td>\n",
       "      <td>black lives matter</td>\n",
       "    </tr>\n",
       "    <tr>\n",
       "      <th>1</th>\n",
       "      <td>206</td>\n",
       "      <td>official twitter account</td>\n",
       "    </tr>\n",
       "    <tr>\n",
       "      <th>2</th>\n",
       "      <td>192</td>\n",
       "      <td>season ticket holder</td>\n",
       "    </tr>\n",
       "    <tr>\n",
       "      <th>3</th>\n",
       "      <td>161</td>\n",
       "      <td>small business owner</td>\n",
       "    </tr>\n",
       "    <tr>\n",
       "      <th>4</th>\n",
       "      <td>119</td>\n",
       "      <td>official twitter handle</td>\n",
       "    </tr>\n",
       "  </tbody>\n",
       "</table>\n",
       "</div>"
      ],
      "text/plain": [
       "   frequency            bigram/trigram\n",
       "0        443        black lives matter\n",
       "1        206  official twitter account\n",
       "2        192      season ticket holder\n",
       "3        161      small business owner\n",
       "4        119   official twitter handle"
      ]
     },
     "execution_count": 68,
     "metadata": {},
     "output_type": "execute_result"
    }
   ],
   "source": [
    "from sklearn.feature_extraction.text import CountVectorizer\n",
    "c_vec = CountVectorizer(ngram_range=(3,3), max_features = 50)\n",
    "\n",
    "# matrix of ngrams\n",
    "ngrams = c_vec.fit_transform(user_desc['clean_desc'])\n",
    "\n",
    "# count frequency of ngrams\n",
    "count_values = ngrams.toarray().sum(axis=0)\n",
    "\n",
    "# list of ngrams\n",
    "vocab = c_vec.vocabulary_\n",
    "df_ngram3 = pd.DataFrame(sorted([(count_values[i],k) for k,i in vocab.items()], reverse=True)\n",
    "            ).rename(columns={0: 'frequency', 1:'bigram/trigram'})\n",
    "\n",
    "df_ngram3.head(5)"
   ]
  },
  {
   "cell_type": "markdown",
   "id": "66219228",
   "metadata": {},
   "source": [
    "#### User profiling methodology\n",
    "(Note: This exercise was done for a class project with limited time window to do the project hence below strategies are far from good)\n",
    "\n",
    "Based on the highest frequency unigrams, bigrams and trigrams, 4 themes identified among them are News organization or News personnel, an individual (/influencer) and organizations including Government bodies. \n",
    "\n",
    "Based on the words in the description the users are bucketed into the 4 user groups as below manually. \n"
   ]
  },
  {
   "cell_type": "code",
   "execution_count": 70,
   "id": "74c857d9",
   "metadata": {},
   "outputs": [],
   "source": [
    "#classify users based on manually curated term list\n",
    "\n",
    "def user_id(text):\n",
    "    '''\n",
    "    Classify text based on presence of key terms\n",
    "    Detailed Logic:\n",
    "    Create buckets with key terms and if a the text passed contains any of the key terms, \n",
    "    credit 1 point for the concerned bucket. The text gets classified to the bucket with most points\"\n",
    "    '''\n",
    "    \n",
    "    id = \"\"\n",
    "    news_terms = ['news','breaking','latest','weather','local','reporter']\n",
    "    health_terms = ['public','health','clinical','medical']\n",
    "    influencer_terms = ['author','husband','lover','dad','owner','president','writer','editor','wife','mom']\n",
    "    government_terms =['government','state']\n",
    "    \n",
    "    raw_words = text.split(\" \")\n",
    "    \n",
    "    news,health,individual,government = 0, 0, 0, 0\n",
    "    news = len([word for word in raw_words if word in news_terms])\n",
    "    health = len([word for word in raw_words if word in health_terms])\n",
    "    influencer = len([word for word in raw_words if word in influencer_terms])\n",
    "    government = len([word for word in raw_words if word in government_terms])\n",
    "    \n",
    "    var = {\"news\":news,\"health\":health,\"individual\":individual,\"government\":government}\n",
    "    \n",
    "    val = var.get(max(var))\n",
    "    \n",
    "    if  val == 0:\n",
    "        id = 'Other'\n",
    "    else:\n",
    "        id = max(var, key=var.get)\n",
    "    \n",
    "    return id"
   ]
  },
  {
   "cell_type": "code",
   "execution_count": 72,
   "id": "b4e30a99",
   "metadata": {},
   "outputs": [
    {
     "name": "stderr",
     "output_type": "stream",
     "text": [
      "C:\\Users\\vbatt\\AppData\\Local\\Temp\\ipykernel_24356\\2180369495.py:2: SettingWithCopyWarning: \n",
      "A value is trying to be set on a copy of a slice from a DataFrame.\n",
      "Try using .loc[row_indexer,col_indexer] = value instead\n",
      "\n",
      "See the caveats in the documentation: https://pandas.pydata.org/pandas-docs/stable/user_guide/indexing.html#returning-a-view-versus-a-copy\n",
      "  user_desc.loc[idx, 'identity2'] = user_id(row.loc['clean_desc'])\n"
     ]
    }
   ],
   "source": [
    "for idx,row in user_desc.iterrows():\n",
    "    user_desc.loc[idx, 'identity2'] = user_id(row.loc['clean_desc'])"
   ]
  },
  {
   "cell_type": "code",
   "execution_count": 73,
   "id": "a97892b8",
   "metadata": {},
   "outputs": [
    {
     "data": {
      "text/html": [
       "<div>\n",
       "<style scoped>\n",
       "    .dataframe tbody tr th:only-of-type {\n",
       "        vertical-align: middle;\n",
       "    }\n",
       "\n",
       "    .dataframe tbody tr th {\n",
       "        vertical-align: top;\n",
       "    }\n",
       "\n",
       "    .dataframe thead th {\n",
       "        text-align: right;\n",
       "    }\n",
       "</style>\n",
       "<table border=\"1\" class=\"dataframe\">\n",
       "  <thead>\n",
       "    <tr style=\"text-align: right;\">\n",
       "      <th></th>\n",
       "      <th>x_user_scrname</th>\n",
       "      <th>x_user_desc</th>\n",
       "      <th>clean_desc</th>\n",
       "    </tr>\n",
       "    <tr>\n",
       "      <th>identity2</th>\n",
       "      <th></th>\n",
       "      <th></th>\n",
       "      <th></th>\n",
       "    </tr>\n",
       "  </thead>\n",
       "  <tbody>\n",
       "    <tr>\n",
       "      <th>Other</th>\n",
       "      <td>202474</td>\n",
       "      <td>176431</td>\n",
       "      <td>202476</td>\n",
       "    </tr>\n",
       "    <tr>\n",
       "      <th>government</th>\n",
       "      <td>3</td>\n",
       "      <td>3</td>\n",
       "      <td>3</td>\n",
       "    </tr>\n",
       "    <tr>\n",
       "      <th>health</th>\n",
       "      <td>35</td>\n",
       "      <td>35</td>\n",
       "      <td>35</td>\n",
       "    </tr>\n",
       "    <tr>\n",
       "      <th>news</th>\n",
       "      <td>4628</td>\n",
       "      <td>4628</td>\n",
       "      <td>4628</td>\n",
       "    </tr>\n",
       "  </tbody>\n",
       "</table>\n",
       "</div>"
      ],
      "text/plain": [
       "            x_user_scrname  x_user_desc  clean_desc\n",
       "identity2                                          \n",
       "Other               202474       176431      202476\n",
       "government               3            3           3\n",
       "health                  35           35          35\n",
       "news                  4628         4628        4628"
      ]
     },
     "execution_count": 73,
     "metadata": {},
     "output_type": "execute_result"
    }
   ],
   "source": [
    "user_desc.groupby('identity2').count()"
   ]
  },
  {
   "cell_type": "markdown",
   "id": "371c86b2",
   "metadata": {},
   "source": [
    "## Location Analysis"
   ]
  },
  {
   "cell_type": "code",
   "execution_count": null,
   "id": "5d1dc94e",
   "metadata": {},
   "outputs": [],
   "source": [
    "loc_df = user_twt_pdf[['x_user_scrname','x_user_location']]\n",
    "loc_df.head(10)"
   ]
  },
  {
   "cell_type": "code",
   "execution_count": null,
   "id": "cdad9770",
   "metadata": {},
   "outputs": [],
   "source": [
    "import nltk\n",
    "import spacy\n",
    "  \n",
    "# essential entity models downloads\n",
    "nltk.downloader.download('maxent_ne_chunker')\n",
    "nltk.downloader.download('words')\n",
    "nltk.downloader.download('maxent_treebank_pos_tagger')\n"
   ]
  },
  {
   "cell_type": "code",
   "execution_count": null,
   "id": "ccc9458f",
   "metadata": {},
   "outputs": [],
   "source": [
    "!python -m spacy download en\n",
    "!python -m spacy download en_core_web_sm"
   ]
  },
  {
   "cell_type": "code",
   "execution_count": null,
   "id": "00561f95",
   "metadata": {},
   "outputs": [],
   "source": [
    "#attempt 1 to identify location\n",
    "\n",
    "\n",
    "# import locationtagger\n",
    "# nlp = spacy.load('en_core_web_sm')\n",
    "\n",
    "# def id_location(text):\n",
    "#     text = str(text)\n",
    "#     text = text.lower()\n",
    "#     text = re.sub('[%s]' % re.escape(string.punctuation), '', text)\n",
    "#     place_entity = locationtagger.find_locations(text = text)\n",
    "#     country = place_entity.countries\n",
    "#     state = place_entity.regions\n",
    "#     city = place_entity.cities\n",
    "#     loc_list = [country,state, city]\n",
    "#     if len(loc_list) == 0:\n",
    "#         loc_list = ['unidentified location']\n",
    "    \n",
    "#     return loc_list"
   ]
  },
  {
   "cell_type": "code",
   "execution_count": null,
   "id": "4d7c1c26",
   "metadata": {},
   "outputs": [],
   "source": [
    "# #attempt 2 to locate\n",
    "\n",
    "# def id_location2(s): \n",
    "#     loc_list = []\n",
    "#     city = \"\"\n",
    "#     state= \"\"\n",
    "#     country = \"\"\n",
    "#     s = s.split()\n",
    "#     for i in range(len(s)):\n",
    "#         s[i] = s[i].lower()\n",
    "\n",
    "#     for place in s:\n",
    "#         if place in cities:\n",
    "#             city = place\n",
    "#         elif place in states:\n",
    "#             state = place\n",
    "#         elif place in state_names:\n",
    "#             state = place\n",
    "#         elif place in countries:\n",
    "#             country = place\n",
    "#         loc_list = [city,state,country]\n",
    "    \n",
    "#     return loc_list"
   ]
  },
  {
   "cell_type": "code",
   "execution_count": null,
   "id": "f681f867",
   "metadata": {},
   "outputs": [],
   "source": [
    "import string\n",
    "import re\n",
    "\n",
    "#Clean location text\n",
    "def clean_loc(text):\n",
    "    \n",
    "    text = str(text)\n",
    "    text = re.sub(\"[^a-zA-Z\\s]+\", \"\",text)\n",
    "    text = re.sub('[%s]' % re.escape(string.punctuation), '', text)\n",
    "    text = re.sub(\"\\d\", \" \", text)\n",
    "    \n",
    "    return text"
   ]
  },
  {
   "cell_type": "code",
   "execution_count": null,
   "id": "1f80074d",
   "metadata": {},
   "outputs": [],
   "source": [
    "for idx,row in loc_df.iterrows():\n",
    "    clean = clean_loc(row.loc['x_user_location'])\n",
    "    loc_df.loc[idx, 'clean_loctn'] = clean"
   ]
  },
  {
   "cell_type": "code",
   "execution_count": null,
   "id": "6885c1df",
   "metadata": {},
   "outputs": [],
   "source": [
    "#series splits\n",
    "loc_splits = loc_df['clean_loctn']\n",
    "type(loc_splits)\n",
    "\n",
    "\n",
    "#break into chunks to accomodate insufficient disk space for processing\n",
    "df0 = loc_splits[0:50000]\n",
    "df1 = loc_splits[50001:100000]\n",
    "df2 = loc_splits[100001:150000]\n",
    "df3 = loc_splits[150001:200000]\n",
    "df4 = loc_splits[200001:258190]"
   ]
  },
  {
   "cell_type": "code",
   "execution_count": null,
   "id": "12a3a33a",
   "metadata": {},
   "outputs": [],
   "source": [
    "# Attempt 3 - nGram Analysis\n",
    "\n",
    "from sklearn.feature_extraction.text import CountVectorizer\n",
    "c_vec = CountVectorizer(ngram_range=(2,2))\n",
    "\n",
    "# matrix of ngrams\n",
    "ngrams = c_vec.fit_transform(df4)\n",
    "\n",
    "# count frequency of ngrams\n",
    "count_values = ngrams.toarray().sum(axis=0)\n",
    "\n",
    "# list of ngrams\n",
    "vocab = c_vec.vocabulary_\n",
    "df4_bigram = pd.DataFrame(sorted([(count_values[i],k) for k,i in vocab.items()], reverse=True)\n",
    "            ).rename(columns={0: 'frequency', 1:'uni/bigram'})"
   ]
  },
  {
   "cell_type": "code",
   "execution_count": null,
   "id": "945f1a86",
   "metadata": {},
   "outputs": [],
   "source": [
    "#merge dfs\n",
    "df_loc_final = df_loc_final.set_index('uni/bigram').add(df4_bigram.set_index('uni/bigram'), fill_value=0).reset_index()"
   ]
  },
  {
   "cell_type": "code",
   "execution_count": null,
   "id": "f4fde497",
   "metadata": {},
   "outputs": [],
   "source": [
    "df_loc_final = df_loc_final.sort_values('frequency', ascending=False)"
   ]
  },
  {
   "cell_type": "code",
   "execution_count": null,
   "id": "ceb77b6a",
   "metadata": {},
   "outputs": [],
   "source": [
    "import matplotlib.pyplot as plt\n",
    "plt.rcParams[\"figure.figsize\"] = (10,8)\n",
    "\n",
    "\n",
    "df_loc_chart = df_loc_final.head(15).rename(columns={\"uni/bigram\": \"Location\"}).set_index('Location')\n",
    "df_loc_chart.plot.bar(color='brown')\n",
    "plt.title(\"Tweet Frequency by Location (Top15)\")\n",
    "plt.ylabel(\"Frequency\")\n",
    ";"
   ]
  },
  {
   "cell_type": "code",
   "execution_count": null,
   "id": "52f1f215",
   "metadata": {},
   "outputs": [],
   "source": [
    "df_loc_final.to_csv('gs://msca-bdp-test-1203/location_df_analysis.csv')"
   ]
  },
  {
   "cell_type": "code",
   "execution_count": null,
   "id": "faa0d0c1",
   "metadata": {},
   "outputs": [],
   "source": [
    "# loc_df.to_csv('gs://msca-bdp-test-1203/location_df.csv')"
   ]
  },
  {
   "cell_type": "markdown",
   "id": "d7612dc1",
   "metadata": {},
   "source": [
    "# Time Analysis"
   ]
  },
  {
   "cell_type": "code",
   "execution_count": null,
   "id": "46a593fd",
   "metadata": {},
   "outputs": [],
   "source": [
    "covid_df = spark.read.parquet(\"gs://msca-bdp-test-1203/covid_tweets4_df.parquet/\")"
   ]
  },
  {
   "cell_type": "code",
   "execution_count": null,
   "id": "2896f15a",
   "metadata": {},
   "outputs": [],
   "source": [
    "covid_df.count()"
   ]
  },
  {
   "cell_type": "code",
   "execution_count": null,
   "id": "4c5e5156",
   "metadata": {},
   "outputs": [],
   "source": [
    "time_df = covid_df.groupby('created_at_year','created_at_mon','created_at_day','retweeted') \\\n",
    "                    .agg(count(covid_df.id).alias('t_count')) \\\n",
    "                    .sort('created_at_year','created_at_mon','created_at_day','retweeted')"
   ]
  },
  {
   "cell_type": "code",
   "execution_count": null,
   "id": "057a0c22",
   "metadata": {},
   "outputs": [],
   "source": [
    "time_df.show()"
   ]
  },
  {
   "cell_type": "code",
   "execution_count": null,
   "id": "3159cc3d",
   "metadata": {},
   "outputs": [],
   "source": [
    "time_df.toPandas().to_csv('gs://msca-bdp-test-1203/time_df.csv')"
   ]
  },
  {
   "cell_type": "code",
   "execution_count": null,
   "id": "9ba90822",
   "metadata": {},
   "outputs": [],
   "source": [
    "full_time_pdf = pd.read_csv('gs://msca-bdp-test-1203/full_time_df.csv')\n",
    "full_time_pdf.head()"
   ]
  },
  {
   "cell_type": "code",
   "execution_count": null,
   "id": "d0811446",
   "metadata": {},
   "outputs": [],
   "source": [
    "full_time_pdf['dateInt']=full_time_pdf['created_at_year'].astype(str) + full_time_pdf['created_at_mon'].astype(str).str.zfill(2)+ full_time_pdf['created_at_day'].astype(str).str.zfill(2)\n",
    "full_time_pdf['Date'] = pd.to_datetime(full_time_pdf['dateInt'], format='%Y%m%d')"
   ]
  },
  {
   "cell_type": "code",
   "execution_count": null,
   "id": "3b51d83a",
   "metadata": {},
   "outputs": [],
   "source": [
    "full_time_pdf.drop(['Unnamed: 0','dateInt','created_at_day','created_at_mon','created_at_year'],axis='columns',inplace=True)\n"
   ]
  },
  {
   "cell_type": "code",
   "execution_count": null,
   "id": "2ed7634a",
   "metadata": {},
   "outputs": [],
   "source": [
    "import seaborn as sns\n",
    "f, ax = plt.subplots(figsize=(11, 9))\n",
    "\n",
    "plt.title('Tweet and Retweet Timeline')\n",
    "plt.ylabel('Number of Tweets /Retweets')\n",
    "plt.grid(True)\n",
    "\n",
    "sns.lineplot(data=full_time_pdf, x='Date', y='t_count', hue='retweeted')"
   ]
  }
 ],
 "metadata": {
  "kernelspec": {
   "display_name": "Python 3 (ipykernel)",
   "language": "python",
   "name": "python3"
  },
  "language_info": {
   "codemirror_mode": {
    "name": "ipython",
    "version": 3
   },
   "file_extension": ".py",
   "mimetype": "text/x-python",
   "name": "python",
   "nbconvert_exporter": "python",
   "pygments_lexer": "ipython3",
   "version": "3.9.7"
  },
  "varInspector": {
   "cols": {
    "lenName": 16,
    "lenType": 16,
    "lenVar": 40
   },
   "kernels_config": {
    "python": {
     "delete_cmd_postfix": "",
     "delete_cmd_prefix": "del ",
     "library": "var_list.py",
     "varRefreshCmd": "print(var_dic_list())"
    },
    "r": {
     "delete_cmd_postfix": ") ",
     "delete_cmd_prefix": "rm(",
     "library": "var_list.r",
     "varRefreshCmd": "cat(var_dic_list()) "
    }
   },
   "types_to_exclude": [
    "module",
    "function",
    "builtin_function_or_method",
    "instance",
    "_Feature"
   ],
   "window_display": false
  }
 },
 "nbformat": 4,
 "nbformat_minor": 5
}
